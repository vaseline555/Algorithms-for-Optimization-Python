{
 "cells": [
  {
   "cell_type": "markdown",
   "metadata": {},
   "source": [
    "# Algorithms for Optimizations\n",
    "## Chapter 2. Derivatives and Gradients"
   ]
  },
  {
   "cell_type": "code",
   "execution_count": 1,
   "metadata": {},
   "outputs": [
    {
     "name": "stdout",
     "output_type": "stream",
     "text": [
      "Python implementation: CPython\n",
      "Python version       : 3.7.8\n",
      "IPython version      : 7.19.0\n",
      "\n",
      "numpy     : 1.18.4\n",
      "sympy     : 1.6.2\n",
      "tqdm      : 4.51.0\n",
      "matplotlib: 3.3.2\n",
      "torch     : 1.5.0\n",
      "\n",
      "Compiler    : GCC 7.5.0\n",
      "OS          : Linux\n",
      "Release     : 4.4.0-176-generic\n",
      "Machine     : x86_64\n",
      "Processor   : x86_64\n",
      "CPU cores   : 16\n",
      "Architecture: 64bit\n",
      "\n"
     ]
    }
   ],
   "source": [
    "%load_ext watermark\n",
    "%watermark -v -m -p numpy,sympy,tqdm,matplotlib,torch"
   ]
  },
  {
   "cell_type": "code",
   "execution_count": 2,
   "metadata": {},
   "outputs": [],
   "source": [
    "import sys\n",
    "assert sys.version_info >= (3, 7)"
   ]
  },
  {
   "cell_type": "code",
   "execution_count": 3,
   "metadata": {},
   "outputs": [],
   "source": [
    "import numpy as np\n",
    "import sympy as sy\n",
    "import matplotlib.pyplot as plt\n",
    "\n",
    "from tqdm import tqdm"
   ]
  },
  {
   "cell_type": "code",
   "execution_count": 4,
   "metadata": {},
   "outputs": [],
   "source": [
    "EPS = np.sqrt(np.finfo(float).eps)"
   ]
  },
  {
   "cell_type": "markdown",
   "metadata": {},
   "source": [
    "#### Symbolic differentiation\n",
    "* Page 21"
   ]
  },
  {
   "cell_type": "code",
   "execution_count": 5,
   "metadata": {},
   "outputs": [
    {
     "name": "stdout",
     "output_type": "stream",
     "text": [
      "x**2 + x/2 - sin(x)/x\n"
     ]
    }
   ],
   "source": [
    "x = sy.symbols(\"x\")\n",
    "f = x**2 + x/2 - sy.sin(x)/x\n",
    "print(f)"
   ]
  },
  {
   "cell_type": "code",
   "execution_count": 6,
   "metadata": {},
   "outputs": [
    {
     "name": "stdout",
     "output_type": "stream",
     "text": [
      "2*x + 1/2 - cos(x)/x + sin(x)/x**2\n"
     ]
    }
   ],
   "source": [
    "print(sy.diff(f, x))"
   ]
  },
  {
   "cell_type": "markdown",
   "metadata": {},
   "source": [
    "#### Numerical differentiation\n",
    "##### Finite difference methods\n",
    "* Page 24"
   ]
  },
  {
   "cell_type": "code",
   "execution_count": 7,
   "metadata": {},
   "outputs": [],
   "source": [
    "def diff_forward(f, x, h=EPS): return (f(x + h) - f(x)) / h\n",
    "def diff_central(f, x, h=EPS): return (f(x + h/2) - f(x - h/2)) / h\n",
    "def diff_forward(f, x, h=EPS): return (f(x) - f(x - h)) / h"
   ]
  },
  {
   "cell_type": "markdown",
   "metadata": {},
   "source": [
    "##### Complex step method\n",
    "* Page 25~26"
   ]
  },
  {
   "cell_type": "code",
   "execution_count": 8,
   "metadata": {},
   "outputs": [],
   "source": [
    "def diff_complex(f, x, h=1e-20): return np.imag(f(x + h*1j)) / h"
   ]
  },
  {
   "cell_type": "code",
   "execution_count": 9,
   "metadata": {},
   "outputs": [],
   "source": [
    "# Example 2.4\n",
    "def f(x): return np.sin(x**2)"
   ]
  },
  {
   "cell_type": "code",
   "execution_count": 10,
   "metadata": {},
   "outputs": [],
   "source": [
    "v = f(np.pi / 2 + 0.001j)"
   ]
  },
  {
   "cell_type": "code",
   "execution_count": 11,
   "metadata": {},
   "outputs": [
    {
     "data": {
      "text/plain": [
       "0.6242698144866649"
      ]
     },
     "execution_count": 11,
     "metadata": {},
     "output_type": "execute_result"
    }
   ],
   "source": [
    "# f(x)\n",
    "np.real(v)"
   ]
  },
  {
   "cell_type": "code",
   "execution_count": 12,
   "metadata": {},
   "outputs": [
    {
     "data": {
      "text/plain": [
       "-2.4542516170381785"
      ]
     },
     "execution_count": 12,
     "metadata": {},
     "output_type": "execute_result"
    }
   ],
   "source": [
    "# f'(x)\n",
    "np.imag(v) / 0.001"
   ]
  },
  {
   "cell_type": "code",
   "execution_count": 13,
   "metadata": {},
   "outputs": [
    {
     "data": {
      "text/plain": [
       "-2.4542495411512917"
      ]
     },
     "execution_count": 13,
     "metadata": {},
     "output_type": "execute_result"
    }
   ],
   "source": [
    "diff_complex(f, np.pi / 2)"
   ]
  },
  {
   "cell_type": "code",
   "execution_count": 14,
   "metadata": {},
   "outputs": [
    {
     "data": {
      "text/plain": [
       "-2.454249493777752"
      ]
     },
     "execution_count": 14,
     "metadata": {},
     "output_type": "execute_result"
    }
   ],
   "source": [
    "diff_forward(f, np.pi / 2)"
   ]
  },
  {
   "cell_type": "code",
   "execution_count": 15,
   "metadata": {},
   "outputs": [
    {
     "data": {
      "text/plain": [
       "-2.4542495384812355"
      ]
     },
     "execution_count": 15,
     "metadata": {},
     "output_type": "execute_result"
    }
   ],
   "source": [
    "diff_central(f, np.pi / 2)"
   ]
  },
  {
   "cell_type": "code",
   "execution_count": 16,
   "metadata": {},
   "outputs": [
    {
     "data": {
      "text/plain": [
       "-2.454249493777752"
      ]
     },
     "execution_count": 16,
     "metadata": {},
     "output_type": "execute_result"
    }
   ],
   "source": [
    "diff_forward(f, np.pi / 2)"
   ]
  },
  {
   "cell_type": "code",
   "execution_count": 17,
   "metadata": {},
   "outputs": [],
   "source": [
    "# Figure 2.4\n",
    "def sin(x): return np.sin(x)\n",
    "def absolute_relative_error(y_pred, y_true):\n",
    "    return np.abs(y_pred - y_true) / np.abs(y_true)"
   ]
  },
  {
   "cell_type": "code",
   "execution_count": 18,
   "metadata": {},
   "outputs": [],
   "source": [
    "y_true = np.cos(1/2)"
   ]
  },
  {
   "cell_type": "code",
   "execution_count": 19,
   "metadata": {},
   "outputs": [],
   "source": [
    "forward_error, central_error, complex_error = [], [], []\n",
    "step_sizes = np.logspace(-18, 1, num=100, base=10)"
   ]
  },
  {
   "cell_type": "code",
   "execution_count": 20,
   "metadata": {},
   "outputs": [
    {
     "name": "stderr",
     "output_type": "stream",
     "text": [
      "100%|██████████| 100/100 [00:00<00:00, 39053.11it/s]\n"
     ]
    }
   ],
   "source": [
    "for h in tqdm(step_sizes):\n",
    "    forward_error.append(absolute_relative_error(diff_forward(sin, 1/2, h), y_true))\n",
    "    central_error.append(absolute_relative_error(diff_central(sin, 1/2, h), y_true))\n",
    "    complex_error.append(absolute_relative_error(diff_complex(sin, 1/2, h), y_true))"
   ]
  },
  {
   "cell_type": "markdown",
   "metadata": {},
   "source": [
    "* Comparison of the error in derivative estimates (Figure 2.4)\n",
    "  - Linear error of the forward difference\n",
    "  - Quadratic error of the central difference and complex methods\n",
    "  - Subtractive cancellation error can be evaded when using complex methods"
   ]
  },
  {
   "cell_type": "code",
   "execution_count": 21,
   "metadata": {},
   "outputs": [
    {
     "data": {
      "image/png": "[encoded data removed]",
      "text/plain": [
       "<Figure size 1080x720 with 1 Axes>"
      ]
     },
     "metadata": {
      "needs_background": "light"
     },
     "output_type": "display_data"
    }
   ],
   "source": [
    "fig, ax = plt.subplots()\n",
    "fig.set_size_inches(15, 10)\n",
    "\n",
    "ax.plot(step_sizes, forward_error, color='b')\n",
    "ax.plot(step_sizes, central_error, color='r')\n",
    "ax.plot(step_sizes, complex_error, color='g')\n",
    "\n",
    "ax.set_yscale(\"log\")\n",
    "ax.set_xscale(\"log\")\n",
    "ax.set_yticks(np.logspace(-21, 3, num=25, base=10))\n",
    "\n",
    "ax.set_xlabel(\"step size $h$\")\n",
    "ax.set_ylabel(\"absolute relative error\")\n",
    "ax.legend([\"forward\", \"central\", \"complex\"])\n",
    "\n",
    "plt.show()"
   ]
  },
  {
   "cell_type": "markdown",
   "metadata": {},
   "source": [
    "#### Automatic differentiation\n",
    "##### Forward accumulation\n",
    "* Page 31"
   ]
  },
  {
   "cell_type": "code",
   "execution_count": 22,
   "metadata": {},
   "outputs": [],
   "source": [
    "class Dual:\n",
    "    def __init__(self, name, v, d):\n",
    "        self.name = name\n",
    "        self.v = v\n",
    "        self.d = d\n",
    "        \n",
    "    def __add__(self, dual):\n",
    "        v = self.v + dual.v\n",
    "        d = self.d + dual.d\n",
    "        return Dual(f\"{self.name} + {dual.name}\", v, d)\n",
    "    \n",
    "    def __mul__(self, dual):\n",
    "        v = self.v * dual.v\n",
    "        d = self.d * dual.d + dual.v * self.d\n",
    "        return Dual(f\"{self.name} x {dual.name}\", v, d)\n",
    "    \n",
    "    def __str__(self):\n",
    "        return f\"Dual: {self.name}\\n=> Value:\\t{self.v:.4f}\\n=> Derivative:\\t{self.d:.4f}\\n\"\n",
    "    \n",
    "    @property\n",
    "    def value(self):\n",
    "        return self.v\n",
    "    \n",
    "    @value.setter\n",
    "    def value(self, value):\n",
    "        self.v = value\n",
    "    \n",
    "    @property\n",
    "    def derivative(self):\n",
    "        return self.d\n",
    "    \n",
    "    @derivative.setter\n",
    "    def derivative(self, derivative):\n",
    "        self.d = derivative"
   ]
  },
  {
   "cell_type": "code",
   "execution_count": 23,
   "metadata": {},
   "outputs": [],
   "source": [
    "def dual_log(dual: Dual) -> Dual:\n",
    "    value = np.log(dual.value)\n",
    "    derivative = dual.derivative / (dual.value + EPS)\n",
    "    return Dual(f\"LOG({dual.name})\", value, derivative)\n",
    "\n",
    "def dual_max(dual1: Dual, dual2: Dual) -> Dual:\n",
    "    value = max(dual1.value, dual2.value)\n",
    "    if dual1.value > dual2.value:\n",
    "        derivative = dual1.derivative\n",
    "    elif dual1.value < dual2.value:\n",
    "        derivative = dual2.derivative\n",
    "    else:\n",
    "        derivative = np.nan\n",
    "    return Dual(f\"MAX({dual1.name}, {dual2.name})\", value, derivative)\n",
    "\n",
    "def dual_max(dual: Dual, constant: int) -> Dual:\n",
    "    value = max(dual.value, constant)\n",
    "    if dual.value > constant:\n",
    "        derivative = dual.derivative\n",
    "    elif dual.value < constant:\n",
    "        derivative = 0\n",
    "    else:\n",
    "        derivative = np.nan\n",
    "    return Dual(f\"MAX({dual.name}, {constant})\", value, derivative)"
   ]
  },
  {
   "cell_type": "markdown",
   "metadata": {},
   "source": [
    "* Forward accumulation example\n",
    "  - Problem: $f(a, b) = \\log(ab+\\max(a,2))$, $f(3, 2)=$?\n",
    "  - Answer: $f(3, 2)=\\log(9)\\approx 2.197, f'(3, 2)=\\frac{1}{3}\\approx 0.333$"
   ]
  },
  {
   "cell_type": "code",
   "execution_count": 24,
   "metadata": {},
   "outputs": [
    {
     "name": "stdout",
     "output_type": "stream",
     "text": [
      "Dual: a\n",
      "=> Value:\t3.0000\n",
      "=> Derivative:\t1.0000\n",
      "\n",
      "Dual: b\n",
      "=> Value:\t2.0000\n",
      "=> Derivative:\t0.0000\n",
      "\n"
     ]
    }
   ],
   "source": [
    "a = Dual(\"a\", 3, 1)\n",
    "b = Dual(\"b\", 2, 0)\n",
    "print(a); print(b)"
   ]
  },
  {
   "cell_type": "code",
   "execution_count": 25,
   "metadata": {},
   "outputs": [
    {
     "name": "stdout",
     "output_type": "stream",
     "text": [
      "Dual: a x b\n",
      "=> Value:\t6.0000\n",
      "=> Derivative:\t2.0000\n",
      "\n",
      "Dual: MAX(a, 2)\n",
      "=> Value:\t3.0000\n",
      "=> Derivative:\t1.0000\n",
      "\n",
      "Dual: a x b + MAX(a, 2)\n",
      "=> Value:\t9.0000\n",
      "=> Derivative:\t3.0000\n",
      "\n",
      "Dual: LOG(a x b + MAX(a, 2))\n",
      "=> Value:\t2.1972\n",
      "=> Derivative:\t0.3333\n",
      "\n"
     ]
    }
   ],
   "source": [
    "c1 = a * b\n",
    "print(c1)\n",
    "\n",
    "c2 = dual_max(a, 2)\n",
    "print(c2)\n",
    "\n",
    "c3 = c1 + c2\n",
    "print(c3)\n",
    "\n",
    "c4 = dual_log(c3)\n",
    "print(c4)"
   ]
  },
  {
   "cell_type": "markdown",
   "metadata": {},
   "source": [
    "##### Reverse accumulation\n",
    "* Page 32"
   ]
  },
  {
   "cell_type": "code",
   "execution_count": 26,
   "metadata": {},
   "outputs": [],
   "source": [
    "import torch\n",
    "a = torch.tensor(3.).requires_grad_(True)\n",
    "b = torch.tensor(2.).requires_grad_(True)\n",
    "f = torch.log(a*b + torch.max(a, torch.tensor(2.)))"
   ]
  },
  {
   "cell_type": "code",
   "execution_count": 27,
   "metadata": {},
   "outputs": [],
   "source": [
    "f.backward()"
   ]
  },
  {
   "cell_type": "code",
   "execution_count": 28,
   "metadata": {},
   "outputs": [
    {
     "name": "stdout",
     "output_type": "stream",
     "text": [
      "f(a, b)=2.1972, f'(a, b)=0.3333\n"
     ]
    }
   ],
   "source": [
    "print(f\"f(a, b)={f:.4f}, f'(a, b)={a.grad:.4f}\") #a.grad == b.grad"
   ]
  }
 ],
 "metadata": {
  "kernelspec": {
   "display_name": "Python 3",
   "language": "python",
   "name": "python3"
  },
  "language_info": {
   "codemirror_mode": {
    "name": "ipython",
    "version": 3
   },
   "file_extension": ".py",
   "mimetype": "text/x-python",
   "name": "python",
   "nbconvert_exporter": "python",
   "pygments_lexer": "ipython3",
   "version": "3.7.8"
  }
 },
 "nbformat": 4,
 "nbformat_minor": 4
}
